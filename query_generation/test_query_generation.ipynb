{
 "cells": [
  {
   "cell_type": "markdown",
   "metadata": {},
   "source": [
    "# Call Dataloder for your task"
   ]
  },
  {
   "cell_type": "code",
   "execution_count": 1,
   "metadata": {},
   "outputs": [
    {
     "name": "stdout",
     "output_type": "stream",
     "text": [
      "Jupyter environment detected. Enabling Open3D WebVisualizer.\n",
      "[Open3D INFO] WebRTC GUI backend enabled.\n",
      "[Open3D INFO] WebRTCWindowSystem: HTTP handshake server disabled.\n"
     ]
    }
   ],
   "source": [
    "'''\n",
    "Created Date: Friday, March 11th 2022, 20:00:01 pm\n",
    "Author: Haowen Lai\n",
    "\n",
    "Copyright (c) 2022 Your Company\n",
    "'''\n",
    "import numpy as np\n",
    "from tqdm import tqdm\n",
    "from matplotlib import pyplot as plt\n",
    "\n",
    "import sys \n",
    "sys.path.append(\"..\")\n",
    "from datasets.UgvLoader import UgvLoader\n",
    "\n",
    "from matplotlib import pyplot as plt\n",
    "%matplotlib inline\n",
    "\n",
    "database_path = \"/media/s1/cjg/dataset/GRP/TRAIN/train_3\"\n",
    "ugv_loader = UgvLoader(database_path)"
   ]
  },
  {
   "cell_type": "markdown",
   "metadata": {},
   "source": [
    "## Visiualize the trajectory"
   ]
  },
  {
   "cell_type": "code",
   "execution_count": 2,
   "metadata": {},
   "outputs": [
    {
     "data": {
      "image/png": "[encoded data removed]",
      "text/plain": [
       "<Figure size 360x144 with 1 Axes>"
      ]
     },
     "metadata": {
      "needs_background": "light"
     },
     "output_type": "display_data"
    }
   ],
   "source": [
    "traj_xyz = [ugv_loader.get_translation(idx) for idx in range(len(ugv_loader))]\n",
    "# print(traj_xyz)\n",
    "traj_xyz = np.vstack(traj_xyz)\n",
    "# print(traj_xyz)\n",
    "\n",
    "# plot result\n",
    "fig, ax = plt.subplots(1, 1, figsize=(5, 2))\n",
    "plt.rcParams['font.size'] = '12'\n",
    "plt.plot(traj_xyz[:, 0], traj_xyz[:, 1])\n",
    "plt.title('The trajectory in xy-plane')\n",
    "plt.xlabel('x (m)')\n",
    "plt.ylabel('y (m)')\n",
    "plt.show()"
   ]
  }
 ],
 "metadata": {
  "interpreter": {
   "hash": "ef91410c1bba5901a2c51f4ea6d8bd4053f26332de688cdedb2366bae3152a2d"
  },
  "kernelspec": {
   "display_name": "Python 3.7.12 ('GPR3')",
   "language": "python",
   "name": "python3"
  },
  "language_info": {
   "codemirror_mode": {
    "name": "ipython",
    "version": 3
   },
   "file_extension": ".py",
   "mimetype": "text/x-python",
   "name": "python",
   "nbconvert_exporter": "python",
   "pygments_lexer": "ipython3",
   "version": "3.7.12"
  }
 },
 "nbformat": 4,
 "nbformat_minor": 2
}
